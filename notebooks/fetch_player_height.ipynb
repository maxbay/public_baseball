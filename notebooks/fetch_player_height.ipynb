{
 "cells": [
  {
   "cell_type": "markdown",
   "metadata": {},
   "source": [
    "## Functions for fetching player height data\n",
    "#### NOTE: Large queries will raise a flag server side. You probably want to limit to <500 IDs"
   ]
  },
  {
   "cell_type": "code",
   "execution_count": 9,
   "metadata": {},
   "outputs": [],
   "source": [
    "import pandas as pd \n",
    "import requests\n",
    "from typing import List\n",
    "\n",
    "def parse_height(height_str: str) -> float:\n",
    "    \"\"\"\n",
    "    Converts the height string from ft and in to ft\n",
    "\n",
    "    Parameters:\n",
    "    height_str: Height string in the format 'ft in'\n",
    "\n",
    "    Returns:\n",
    "    Height in ft (float)\n",
    "    \"\"\"\n",
    "    # split str into ft and in\n",
    "    feet, inches = height_str.split(\"' \")\n",
    "    feet = int(feet)\n",
    "    inches = int(inches.replace('\"', ''))\n",
    "    \n",
    "    # convert the height to ft units\n",
    "    height_in_feet = feet + inches / 12.0\n",
    "    return height_in_feet\n",
    "\n",
    "def get_player_heights(player_ids: List[int]) -> pd.DataFrame:\n",
    "    \"\"\"\n",
    "    Fetches the heights of players given their IDs.\n",
    "    \n",
    "    Parameters:\n",
    "    player_ids: List of player IDs.\n",
    "    \n",
    "    Returns:\n",
    "    pandas DataFrame of player IDs, heights.\n",
    "    \"\"\"\n",
    "\n",
    "    player_id_str = ','.join(map(str, player_ids))\n",
    "\n",
    "    url = f'https://statsapi.mlb.com/api/v1/people?personIds={player_id_str}&fields=people,id,height,weight'\n",
    "\n",
    "    # query the API endpoint\n",
    "    response = requests.get(url)\n",
    "\n",
    "    # raise an HTTPError if the request was unsuccessful\n",
    "    response.raise_for_status()  \n",
    "    \n",
    "    json_data = response.json()['people'] # parse the JSON response\n",
    "    data = pd.DataFrame(json_data) # convert to DataFrame\n",
    "    data['height'] = data['height'].apply(parse_height) # convert height to ft\n",
    "    \n",
    "    return data"
   ]
  },
  {
   "cell_type": "code",
   "execution_count": 10,
   "metadata": {},
   "outputs": [
    {
     "data": {
      "text/html": [
       "<div>\n",
       "<style scoped>\n",
       "    .dataframe tbody tr th:only-of-type {\n",
       "        vertical-align: middle;\n",
       "    }\n",
       "\n",
       "    .dataframe tbody tr th {\n",
       "        vertical-align: top;\n",
       "    }\n",
       "\n",
       "    .dataframe thead th {\n",
       "        text-align: right;\n",
       "    }\n",
       "</style>\n",
       "<table border=\"1\" class=\"dataframe\">\n",
       "  <thead>\n",
       "    <tr style=\"text-align: right;\">\n",
       "      <th></th>\n",
       "      <th>id</th>\n",
       "      <th>height</th>\n",
       "      <th>weight</th>\n",
       "    </tr>\n",
       "  </thead>\n",
       "  <tbody>\n",
       "    <tr>\n",
       "      <th>0</th>\n",
       "      <td>694973</td>\n",
       "      <td>6.500000</td>\n",
       "      <td>235</td>\n",
       "    </tr>\n",
       "    <tr>\n",
       "      <th>1</th>\n",
       "      <td>573186</td>\n",
       "      <td>5.583333</td>\n",
       "      <td>180</td>\n",
       "    </tr>\n",
       "  </tbody>\n",
       "</table>\n",
       "</div>"
      ],
      "text/plain": [
       "       id    height  weight\n",
       "0  694973  6.500000     235\n",
       "1  573186  5.583333     180"
      ]
     },
     "execution_count": 10,
     "metadata": {},
     "output_type": "execute_result"
    }
   ],
   "source": [
    "player_ids = [694973,573186]\n",
    "\n",
    "player_df = get_player_heights(player_ids)\n",
    "\n",
    "player_df.head()"
   ]
  }
 ],
 "metadata": {
  "kernelspec": {
   "display_name": "py310",
   "language": "python",
   "name": "python3"
  },
  "language_info": {
   "codemirror_mode": {
    "name": "ipython",
    "version": 3
   },
   "file_extension": ".py",
   "mimetype": "text/x-python",
   "name": "python",
   "nbconvert_exporter": "python",
   "pygments_lexer": "ipython3",
   "version": "3.10.13"
  }
 },
 "nbformat": 4,
 "nbformat_minor": 2
}
